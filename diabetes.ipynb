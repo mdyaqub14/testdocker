{
 "cells": [
  {
   "cell_type": "code",
   "execution_count": 1,
   "metadata": {
    "scrolled": true
   },
   "outputs": [
    {
     "data": {
      "text/plain": [
       "<bound method DataFrame.info of              Glucose  BloodPressure  SkinThickness  Insulin   BMI  \\\n",
       "Pregnancies                                                         \n",
       "6                148             72             35        0  33.6   \n",
       "1                 85             66             29        0  26.6   \n",
       "8                183             64              0        0  23.3   \n",
       "1                 89             66             23       94  28.1   \n",
       "0                137             40             35      168  43.1   \n",
       "5                116             74              0        0  25.6   \n",
       "3                 78             50             32       88  31.0   \n",
       "10               115              0              0        0  35.3   \n",
       "2                197             70             45      543  30.5   \n",
       "8                125             96              0        0   0.0   \n",
       "4                110             92              0        0  37.6   \n",
       "10               168             74              0        0  38.0   \n",
       "10               139             80              0        0  27.1   \n",
       "1                189             60             23      846  30.1   \n",
       "5                166             72             19      175  25.8   \n",
       "7                100              0              0        0  30.0   \n",
       "0                118             84             47      230  45.8   \n",
       "7                107             74              0        0  29.6   \n",
       "1                103             30             38       83  43.3   \n",
       "1                115             70             30       96  34.6   \n",
       "3                126             88             41      235  39.3   \n",
       "8                 99             84              0        0  35.4   \n",
       "7                196             90              0        0  39.8   \n",
       "9                119             80             35        0  29.0   \n",
       "11               143             94             33      146  36.6   \n",
       "10               125             70             26      115  31.1   \n",
       "7                147             76              0        0  39.4   \n",
       "1                 97             66             15      140  23.2   \n",
       "13               145             82             19      110  22.2   \n",
       "5                117             92              0        0  34.1   \n",
       "...              ...            ...            ...      ...   ...   \n",
       "9                154             78             30      100  30.9   \n",
       "6                165             68             26      168  33.6   \n",
       "1                 99             58             10        0  25.4   \n",
       "10                68            106             23       49  35.5   \n",
       "3                123            100             35      240  57.3   \n",
       "8                 91             82              0        0  35.6   \n",
       "6                195             70              0        0  30.9   \n",
       "9                156             86              0        0  24.8   \n",
       "0                 93             60              0        0  35.3   \n",
       "3                121             52              0        0  36.0   \n",
       "2                101             58             17      265  24.2   \n",
       "2                 56             56             28       45  24.2   \n",
       "0                162             76             36        0  49.6   \n",
       "0                 95             64             39      105  44.6   \n",
       "4                125             80              0        0  32.3   \n",
       "5                136             82              0        0   0.0   \n",
       "2                129             74             26      205  33.2   \n",
       "3                130             64              0        0  23.1   \n",
       "1                107             50             19        0  28.3   \n",
       "1                140             74             26      180  24.1   \n",
       "1                144             82             46      180  46.1   \n",
       "8                107             80              0        0  24.6   \n",
       "13               158            114              0        0  42.3   \n",
       "2                121             70             32       95  39.1   \n",
       "7                129             68             49      125  38.5   \n",
       "2                 90             60              0        0  23.5   \n",
       "7                142             90             24      480  30.4   \n",
       "3                169             74             19      125  29.9   \n",
       "0                 99              0              0        0  25.0   \n",
       "4                127             88             11      155  34.5   \n",
       "\n",
       "             DiabetesPedigreeFunction  Age  Outcome  \n",
       "Pregnancies                                          \n",
       "6                               0.627   50        1  \n",
       "1                               0.351   31        0  \n",
       "8                               0.672   32        1  \n",
       "1                               0.167   21        0  \n",
       "0                               2.288   33        1  \n",
       "5                               0.201   30        0  \n",
       "3                               0.248   26        1  \n",
       "10                              0.134   29        0  \n",
       "2                               0.158   53        1  \n",
       "8                               0.232   54        1  \n",
       "4                               0.191   30        0  \n",
       "10                              0.537   34        1  \n",
       "10                              1.441   57        0  \n",
       "1                               0.398   59        1  \n",
       "5                               0.587   51        1  \n",
       "7                               0.484   32        1  \n",
       "0                               0.551   31        1  \n",
       "7                               0.254   31        1  \n",
       "1                               0.183   33        0  \n",
       "1                               0.529   32        1  \n",
       "3                               0.704   27        0  \n",
       "8                               0.388   50        0  \n",
       "7                               0.451   41        1  \n",
       "9                               0.263   29        1  \n",
       "11                              0.254   51        1  \n",
       "10                              0.205   41        1  \n",
       "7                               0.257   43        1  \n",
       "1                               0.487   22        0  \n",
       "13                              0.245   57        0  \n",
       "5                               0.337   38        0  \n",
       "...                               ...  ...      ...  \n",
       "9                               0.164   45        0  \n",
       "6                               0.631   49        0  \n",
       "1                               0.551   21        0  \n",
       "10                              0.285   47        0  \n",
       "3                               0.880   22        0  \n",
       "8                               0.587   68        0  \n",
       "6                               0.328   31        1  \n",
       "9                               0.230   53        1  \n",
       "0                               0.263   25        0  \n",
       "3                               0.127   25        1  \n",
       "2                               0.614   23        0  \n",
       "2                               0.332   22        0  \n",
       "0                               0.364   26        1  \n",
       "0                               0.366   22        0  \n",
       "4                               0.536   27        1  \n",
       "5                               0.640   69        0  \n",
       "2                               0.591   25        0  \n",
       "3                               0.314   22        0  \n",
       "1                               0.181   29        0  \n",
       "1                               0.828   23        0  \n",
       "1                               0.335   46        1  \n",
       "8                               0.856   34        0  \n",
       "13                              0.257   44        1  \n",
       "2                               0.886   23        0  \n",
       "7                               0.439   43        1  \n",
       "2                               0.191   25        0  \n",
       "7                               0.128   43        1  \n",
       "3                               0.268   31        1  \n",
       "0                               0.253   22        0  \n",
       "4                               0.598   28        0  \n",
       "\n",
       "[699 rows x 8 columns]>"
      ]
     },
     "execution_count": 1,
     "metadata": {},
     "output_type": "execute_result"
    }
   ],
   "source": [
    "import pandas as pd\n",
    "from sklearn import tree\n",
    "\n",
    "data = pd.read_csv('https://raw.githubusercontent.com/mdyaqub14/TestSalesforceDX/0ec70f3bcb61efee3c9dd4eb951bdb78c427ffb6/Train.csv', index_col=0)\n",
    "data.head()\n",
    "data.info\n"
   ]
  },
  {
   "cell_type": "code",
   "execution_count": 2,
   "metadata": {},
   "outputs": [],
   "source": [
    "data['BMI'] = data['BMI'].astype(int)\n",
    "data['DiabetesPedigreeFunction'] = data['DiabetesPedigreeFunction'].astype(int)"
   ]
  },
  {
   "cell_type": "code",
   "execution_count": 3,
   "metadata": {},
   "outputs": [
    {
     "data": {
      "text/plain": [
       "['Glucose',\n",
       " 'BloodPressure',\n",
       " 'SkinThickness',\n",
       " 'Insulin',\n",
       " 'BMI',\n",
       " 'DiabetesPedigreeFunction',\n",
       " 'Age',\n",
       " 'Outcome']"
      ]
     },
     "execution_count": 3,
     "metadata": {},
     "output_type": "execute_result"
    }
   ],
   "source": [
    "features = list(data.columns[:8])\n",
    "features"
   ]
  },
  {
   "cell_type": "code",
   "execution_count": 4,
   "metadata": {},
   "outputs": [],
   "source": [
    "y = data['Outcome']\n",
    "x = data[features]\n",
    "Tree = tree.DecisionTreeClassifier()\n",
    "Tree = Tree.fit(x,y)\n",
    "\n",
    "\n",
    "import graphviz\n",
    "\n",
    "from sklearn.externals.six import StringIO  \n",
    "from IPython.display import Image  \n",
    "from sklearn.tree import export_graphviz\n",
    "import pydotplus\n",
    "\n",
    "dot_data = tree.export_graphviz(Tree, out_file='tree.dot',  \n",
    "                         filled=True, rounded=True,  \n",
    "                         special_characters=True) "
   ]
  },
  {
   "cell_type": "code",
   "execution_count": 5,
   "metadata": {},
   "outputs": [
    {
     "name": "stdout",
     "output_type": "stream",
     "text": [
      "[1]\n"
     ]
    }
   ],
   "source": [
    "output = Tree.predict([[2,115,0,0,0,0,0.261,30]])\n",
    "print (output)"
   ]
  },
  {
   "cell_type": "code",
   "execution_count": 7,
   "metadata": {},
   "outputs": [],
   "source": [
    "from sklearn.ensemble import RandomForestClassifier\n",
    "forest = RandomForestClassifier(n_estimators = 100)\n",
    "forest = forest.fit(x,y)\n"
   ]
  },
  {
   "cell_type": "code",
   "execution_count": 8,
   "metadata": {},
   "outputs": [
    {
     "name": "stdout",
     "output_type": "stream",
     "text": [
      "[1]\n"
     ]
    }
   ],
   "source": [
    "output =  forest.predict([[2,115,0,0,0,0,0.261,30]])\n",
    "print (output)"
   ]
  },
  {
   "cell_type": "code",
   "execution_count": null,
   "metadata": {},
   "outputs": [],
   "source": []
  }
 ],
 "metadata": {
  "kernelspec": {
   "display_name": "Python 3",
   "language": "python",
   "name": "python3"
  },
  "language_info": {
   "codemirror_mode": {
    "name": "ipython",
    "version": 3
   },
   "file_extension": ".py",
   "mimetype": "text/x-python",
   "name": "python",
   "nbconvert_exporter": "python",
   "pygments_lexer": "ipython3",
   "version": "3.5.2"
  }
 },
 "nbformat": 4,
 "nbformat_minor": 2
}
